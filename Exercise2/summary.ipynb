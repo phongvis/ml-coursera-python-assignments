{
 "cells": [
  {
   "cell_type": "markdown",
   "metadata": {
    "Collapsed": "false"
   },
   "source": [
    "# Logistic Regression\n",
    "*Implementing logistic regression from scratch with numpy.*"
   ]
  },
  {
   "cell_type": "markdown",
   "metadata": {
    "Collapsed": "false"
   },
   "source": [
    "> Logistic regression is a statistical model that in its basic form uses a logistic function to model a binary dependent variable."
   ]
  },
  {
   "cell_type": "markdown",
   "metadata": {
    "Collapsed": "false"
   },
   "source": [
    "Considering a binary classification problem, the probability of predicting y is equal to 1 given $x$ is denoted as $p = P(Y=1|x)$. \n",
    "\n",
    "Log-odds of the event $Y=1$ is defined as $l=log \\left(\\frac{p}{1-p}\\right)$.\n",
    "\n",
    "A linear relationship between the log-odds and the dependent variables is assumed and can be represented as $l=\\theta_0 + \\theta_1x_1 + \\dots + \\theta_nx_n=\\theta^Tx$.\n",
    "\n",
    "Thus, $\\frac{p}{1-p}=e^{\\theta^Tx}$. \n",
    "\n",
    "It can be derived to: $p=\\frac{1}{1+e^{-\\theta^Tx}}$.\n",
    "\n",
    "The sigmoid function is defined as $g(z)=\\frac{1}{1+e^{-z}}$.\n",
    "\n",
    "And finally, $p=g(\\theta^Tx)$"
   ]
  },
  {
   "cell_type": "code",
   "execution_count": 213,
   "metadata": {
    "Collapsed": "false"
   },
   "outputs": [],
   "source": [
    "import numpy as np\n",
    "from scipy.optimize import minimize\n",
    "\n",
    "np.random.seed(0)"
   ]
  },
  {
   "cell_type": "markdown",
   "metadata": {
    "Collapsed": "false"
   },
   "source": [
    "## Data\n",
    "> Build a logistic regression model to predict whether a student gets admitted into a university. For each training example, you have the applicant's scores on two exams and the admissions decision."
   ]
  },
  {
   "cell_type": "code",
   "execution_count": 43,
   "metadata": {
    "Collapsed": "false"
   },
   "outputs": [
    {
     "name": "stdout",
     "output_type": "stream",
     "text": [
      "(100, 3)\n"
     ]
    },
    {
     "data": {
      "text/plain": [
       "array([[ 1.        , 34.62365962, 78.02469282],\n",
       "       [ 1.        , 30.28671077, 43.89499752],\n",
       "       [ 1.        , 35.84740877, 72.90219803],\n",
       "       [ 1.        , 60.18259939, 86.3085521 ],\n",
       "       [ 1.        , 79.03273605, 75.34437644],\n",
       "       [ 1.        , 45.08327748, 56.31637178],\n",
       "       [ 1.        , 61.10666454, 96.51142588],\n",
       "       [ 1.        , 75.02474557, 46.55401354],\n",
       "       [ 1.        , 76.0987867 , 87.42056972],\n",
       "       [ 1.        , 84.43281996, 43.53339331]])"
      ]
     },
     "execution_count": 43,
     "metadata": {},
     "output_type": "execute_result"
    }
   ],
   "source": [
    "data = np.loadtxt('Data/ex2data1.txt', delimiter=',')\n",
    "X, y = data[:, :2], data[:, 2]\n",
    "X = np.hstack([np.ones((y.size, 1)), X])\n",
    "print(X.shape)\n",
    "X[:10]"
   ]
  },
  {
   "cell_type": "markdown",
   "metadata": {
    "Collapsed": "false"
   },
   "source": [
    "## Compute loss\n",
    "$$ J(\\theta) = \\frac{1}{m} \\sum_{i=1}^{m} \\left[ -y^{(i)} \\log\\left(h_\\theta\\left( x^{(i)} \\right) \\right) - \\left( 1 - y^{(i)}\\right) \\log \\left( 1 - h_\\theta\\left( x^{(i)} \\right) \\right) \\right]$$"
   ]
  },
  {
   "cell_type": "code",
   "execution_count": 3,
   "metadata": {
    "Collapsed": "false"
   },
   "outputs": [],
   "source": [
    "def sigmoid(x):\n",
    "    return 1 / (1 + np.exp(-x))\n",
    "\n",
    "def h(X, theta):\n",
    "    \"Compute the prediction of the model.\"\n",
    "    return sigmoid(X @ theta)"
   ]
  },
  {
   "cell_type": "code",
   "execution_count": 4,
   "metadata": {
    "Collapsed": "false"
   },
   "outputs": [],
   "source": [
    "def compute_loss(theta, X, y):\n",
    "    \"Log loss.\"\n",
    "    return -(y * np.log(h(X, theta)) + (1 - y) * np.log(1 - h(X, theta))).mean()"
   ]
  },
  {
   "cell_type": "markdown",
   "metadata": {
    "Collapsed": "false"
   },
   "source": [
    "## Gradient descent\n",
    "$$ \\frac{\\partial J(\\theta)}{\\partial \\theta_j} = \\frac{1}{m} \\sum_{i=1}^m \\left( h_\\theta \\left( x^{(i)} \\right) - y^{(i)} \\right) x_j^{(i)} $$"
   ]
  },
  {
   "cell_type": "code",
   "execution_count": 80,
   "metadata": {
    "Collapsed": "false"
   },
   "outputs": [],
   "source": [
    "def compute_grad(theta, X, y):\n",
    "    error = h(X, theta) - y\n",
    "    return (1 / len(X)) * (X.T @ error)\n",
    "\n",
    "def gradient_descent(X, y, epochs=1000, lr=0.01):\n",
    "    \"Return parameters theta that minimizes the loss.\"\n",
    "    theta = np.random.random(X.shape[1])\n",
    "    for epoch in range(1, epochs + 1):\n",
    "        theta -= lr * compute_grad(theta, X, y)\n",
    "        \n",
    "        if epoch % 100000 == 0:\n",
    "            loss = compute_loss(theta, X, y)\n",
    "            print(f'loss: {loss:.2f}')\n",
    "    return theta"
   ]
  },
  {
   "cell_type": "code",
   "execution_count": 81,
   "metadata": {
    "Collapsed": "false"
   },
   "outputs": [
    {
     "name": "stdout",
     "output_type": "stream",
     "text": [
      "loss: 0.39\n",
      "loss: 0.32\n",
      "loss: 0.28\n",
      "loss: 0.27\n",
      "loss: 0.25\n",
      "loss: 0.24\n",
      "loss: 0.24\n",
      "loss: 0.23\n",
      "loss: 0.23\n",
      "loss: 0.22\n"
     ]
    },
    {
     "data": {
      "text/plain": [
       "array([-15.37575963,   0.12810524,   0.12232271])"
      ]
     },
     "execution_count": 81,
     "metadata": {},
     "output_type": "execute_result"
    }
   ],
   "source": [
    "gradient_descent(X, y, epochs=1000000, lr=0.001)"
   ]
  },
  {
   "cell_type": "markdown",
   "metadata": {
    "Collapsed": "false"
   },
   "source": [
    "My implementation converges too slowly. Now use an optimizer from scipy."
   ]
  },
  {
   "cell_type": "code",
   "execution_count": 83,
   "metadata": {
    "Collapsed": "false"
   },
   "outputs": [
    {
     "name": "stderr",
     "output_type": "stream",
     "text": [
      "/Users/sbkr014/opt/anaconda3/lib/python3.7/site-packages/ipykernel_launcher.py:3: RuntimeWarning: divide by zero encountered in log\n",
      "  This is separate from the ipykernel package so we can avoid doing imports until\n",
      "/Users/sbkr014/opt/anaconda3/lib/python3.7/site-packages/ipykernel_launcher.py:3: RuntimeWarning: invalid value encountered in multiply\n",
      "  This is separate from the ipykernel package so we can avoid doing imports until\n",
      "/Users/sbkr014/opt/anaconda3/lib/python3.7/site-packages/ipykernel_launcher.py:2: RuntimeWarning: overflow encountered in exp\n",
      "  \n",
      "/Users/sbkr014/opt/anaconda3/lib/python3.7/site-packages/ipykernel_launcher.py:2: RuntimeWarning: overflow encountered in exp\n",
      "  \n",
      "/Users/sbkr014/opt/anaconda3/lib/python3.7/site-packages/ipykernel_launcher.py:3: RuntimeWarning: divide by zero encountered in log\n",
      "  This is separate from the ipykernel package so we can avoid doing imports until\n",
      "/Users/sbkr014/opt/anaconda3/lib/python3.7/site-packages/ipykernel_launcher.py:3: RuntimeWarning: invalid value encountered in multiply\n",
      "  This is separate from the ipykernel package so we can avoid doing imports until\n",
      "/Users/sbkr014/opt/anaconda3/lib/python3.7/site-packages/ipykernel_launcher.py:3: RuntimeWarning: divide by zero encountered in log\n",
      "  This is separate from the ipykernel package so we can avoid doing imports until\n",
      "/Users/sbkr014/opt/anaconda3/lib/python3.7/site-packages/ipykernel_launcher.py:3: RuntimeWarning: invalid value encountered in multiply\n",
      "  This is separate from the ipykernel package so we can avoid doing imports until\n"
     ]
    },
    {
     "data": {
      "text/plain": [
       "(0.2034977015894523, array([-25.1613347 ,   0.20623172,   0.2014716 ]))"
      ]
     },
     "execution_count": 83,
     "metadata": {},
     "output_type": "execute_result"
    }
   ],
   "source": [
    "res = minimize(compute_loss, np.random.random(X.shape[1]), (X, y), jac=compute_grad)\n",
    "loss = res.fun\n",
    "theta = res.x\n",
    "loss, theta"
   ]
  },
  {
   "cell_type": "markdown",
   "metadata": {
    "Collapsed": "false"
   },
   "source": [
    "Wow, much faster and smaller loss."
   ]
  },
  {
   "cell_type": "markdown",
   "metadata": {
    "Collapsed": "false"
   },
   "source": [
    "## Regularization"
   ]
  },
  {
   "cell_type": "markdown",
   "metadata": {
    "Collapsed": "false"
   },
   "source": [
    "### Data\n",
    "> Suppose you are the product manager of the factory and you have the test results for some microchips on two different tests. From these two tests, you would like to determine whether the microchips should be accepted or rejected."
   ]
  },
  {
   "cell_type": "code",
   "execution_count": 137,
   "metadata": {
    "Collapsed": "false"
   },
   "outputs": [],
   "source": [
    "data = np.loadtxt('Data/ex2data2.txt', delimiter=',')\n",
    "X = data[:, :2]\n",
    "y = data[:, 2]"
   ]
  },
  {
   "cell_type": "code",
   "execution_count": 150,
   "metadata": {
    "Collapsed": "false"
   },
   "outputs": [],
   "source": [
    "import matplotlib.pyplot as plt\n",
    "%config InlineBackend.figure_format='retina'\n",
    "\n",
    "import seaborn as sns\n",
    "sns.set_style('whitegrid')"
   ]
  },
  {
   "cell_type": "code",
   "execution_count": 158,
   "metadata": {
    "Collapsed": "false"
   },
   "outputs": [
    {
     "data": {
      "image/png": "[encoded data removed]",
      "text/plain": [
       "<Figure size 432x288 with 1 Axes>"
      ]
     },
     "metadata": {
      "image/png": {
       "height": 248,
       "width": 381
      }
     },
     "output_type": "display_data"
    }
   ],
   "source": [
    "sns.scatterplot(x=X[:,0], y=X[:,1], hue=y)\n",
    "plt.show()"
   ]
  },
  {
   "cell_type": "markdown",
   "metadata": {
    "Collapsed": "false"
   },
   "source": [
    "The data isn't linearly separable. We need to add more features to model non-linearity by using the provided utility function."
   ]
  },
  {
   "cell_type": "code",
   "execution_count": 159,
   "metadata": {
    "Collapsed": "false"
   },
   "outputs": [
    {
     "data": {
      "text/plain": [
       "(118, 28)"
      ]
     },
     "execution_count": 159,
     "metadata": {},
     "output_type": "execute_result"
    }
   ],
   "source": [
    "import utils\n",
    "X = utils.mapFeature(X[:, 0], X[:, 1])\n",
    "X.shape"
   ]
  },
  {
   "cell_type": "markdown",
   "metadata": {
    "Collapsed": "false"
   },
   "source": [
    "However, 28 features for 118 data points is too much and it will lead to overfitting. Thus, we will use regularization.\n",
    "\n",
    "> Regularization is a technique to prevent overfitting by adding penalty to large weights."
   ]
  },
  {
   "cell_type": "markdown",
   "metadata": {
    "Collapsed": "false"
   },
   "source": [
    "The extra cost is $$\\frac{\\lambda}{2m} \\sum_{j=1}^n \\theta_j^2 $$\n",
    "\n",
    "\n",
    "And its gradient is $$\\frac{\\lambda}{m}\\theta_j \\qquad \\text{for } j \\ge 1 $$ (no regularization applied to the bias weight)."
   ]
  },
  {
   "cell_type": "code",
   "execution_count": 160,
   "metadata": {
    "Collapsed": "false"
   },
   "outputs": [],
   "source": [
    "def compute_loss_reg(theta, X, y, lam):\n",
    "    \"Log loss with regularization.\"\n",
    "    y_hat = h(X, theta)\n",
    "    return -(y * np.log(y_hat) + (1 - y) * np.log(1 - y_hat)).mean() + lam / (2 * len(X)) * (theta ** 2).sum()"
   ]
  },
  {
   "cell_type": "code",
   "execution_count": 183,
   "metadata": {
    "Collapsed": "false"
   },
   "outputs": [],
   "source": [
    "def compute_grad_reg(theta, X, y, lam):\n",
    "    error = h(X, theta) - y\n",
    "    return (1 / len(X)) * (X.T @ error) + lam / len(X) * theta\n",
    "\n",
    "def gradient_descent_reg(X, y, epochs=1000, lr=0.01, lam=1):\n",
    "    \"Return parameters theta that minimizes the loss.\"\n",
    "    theta = np.random.random(X.shape[1])\n",
    "    for epoch in range(1, epochs + 1):\n",
    "        theta -= lr * compute_grad_reg(theta, X, y, lam)\n",
    "        \n",
    "        if epoch % 1000 == 0:\n",
    "            loss = compute_loss_reg(theta, X, y, lam)\n",
    "            print(f'loss: {loss:.2f}')\n",
    "    return theta\n",
    "\n",
    "def compute_accuracy(theta, X, y):\n",
    "    prob = np.array(h(X, theta))\n",
    "    pred = np.where(prob > 0.5, 1, 0)\n",
    "    return np.equal(pred, y).mean()"
   ]
  },
  {
   "cell_type": "markdown",
   "metadata": {
    "Collapsed": "false"
   },
   "source": [
    "`sklearn` results on the training set."
   ]
  },
  {
   "cell_type": "code",
   "execution_count": 186,
   "metadata": {
    "Collapsed": "false"
   },
   "outputs": [],
   "source": [
    "from sklearn.linear_model import LogisticRegression\n",
    "from sklearn.metrics import accuracy_score"
   ]
  },
  {
   "cell_type": "code",
   "execution_count": 199,
   "metadata": {
    "Collapsed": "false"
   },
   "outputs": [
    {
     "data": {
      "text/plain": [
       "0.8305084745762712"
      ]
     },
     "execution_count": 199,
     "metadata": {},
     "output_type": "execute_result"
    }
   ],
   "source": [
    "logit = LogisticRegression(C=1, max_iter=10000)\n",
    "logit.fit(X, y)\n",
    "logit.score(X, y)"
   ]
  },
  {
   "cell_type": "code",
   "execution_count": 225,
   "metadata": {
    "Collapsed": "false"
   },
   "outputs": [
    {
     "name": "stdout",
     "output_type": "stream",
     "text": [
      "loss: 0.69\n",
      "loss: 0.63\n",
      "loss: 0.60\n",
      "loss: 0.58\n",
      "loss: 0.57\n",
      "loss: 0.56\n",
      "loss: 0.55\n",
      "loss: 0.55\n",
      "loss: 0.55\n",
      "loss: 0.54\n"
     ]
    },
    {
     "data": {
      "text/plain": [
       "0.8220338983050848"
      ]
     },
     "execution_count": 225,
     "metadata": {},
     "output_type": "execute_result"
    }
   ],
   "source": [
    "theta = gradient_descent_reg(X, y, epochs=10000, lr=0.01, lam=1)\n",
    "compute_accuracy(theta, X, y)"
   ]
  },
  {
   "cell_type": "markdown",
   "metadata": {
    "Collapsed": "false"
   },
   "source": [
    "Nice, pretty close."
   ]
  }
 ],
 "metadata": {
  "kernelspec": {
   "display_name": "Python 3",
   "language": "python",
   "name": "python3"
  },
  "language_info": {
   "codemirror_mode": {
    "name": "ipython",
    "version": 3
   },
   "file_extension": ".py",
   "mimetype": "text/x-python",
   "name": "python",
   "nbconvert_exporter": "python",
   "pygments_lexer": "ipython3",
   "version": "3.7.4"
  }
 },
 "nbformat": 4,
 "nbformat_minor": 4
}
